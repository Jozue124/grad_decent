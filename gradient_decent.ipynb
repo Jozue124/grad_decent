{
 "cells": [
  {
   "cell_type": "code",
   "execution_count": 1,
   "metadata": {},
   "outputs": [],
   "source": [
    "import pandas"
   ]
  },
  {
   "cell_type": "code",
   "execution_count": 2,
   "metadata": {},
   "outputs": [],
   "source": [
    "from sklearn import datasets\n",
    "# multivariate linear regression\n",
    "################################################\n",
    "#-----------------------------------------------\n",
    "# Training data (X, y), T time steps, alpha step\n",
    "def grad_descent(X, y, T, alpha):\n",
    "    m, n = X.shape # m = #examples, n = #features\n",
    "    theta = np.zeros(n) # initialize parameters\n",
    "    f = np.zeros(T) \n",
    "    for i in range(T):\n",
    "# loss for current parameter vector theta\n",
    "        f[i] = 0.5*np.linalg.norm(X.dot(theta) - y)**2\n",
    "# compute steepest ascent at f(theta)\n",
    "        g = np.transpose(X).dot(X.dot(theta) - y)\n",
    " # step down the gradient\n",
    "        theta = theta - alpha*g\n",
    "    return theta, f\n",
    "#-----------------------------------------------"
   ]
  },
  {
   "cell_type": "code",
   "execution_count": 3,
   "metadata": {},
   "outputs": [],
   "source": [
    "#multivariate logistic regression\n",
    "################################################\n",
    "#-----------------------------------------------\n",
    "#sigmoid function\n",
    "def sigmoid(z):\n",
    "    return 1.0 / (1 + np.exp(-z))\n",
    "#hypothosis function\n",
    "def predict(X,theta):\n",
    "    z = np.dot(X, theta)\n",
    "    return sigmoid(z)\n",
    "#loss function \n",
    "def log_loss(h,y):\n",
    "    return (-y * np.log(h) - (1 - y) * np.log(1 - h)).mean()\n",
    "def log_grad_descent(X, y, T, alpha):\n",
    "    m, n = X.shape # m = #examples, n = #features\n",
    "    theta = np.zeros(n) # initialize parameters\n",
    "    f = np.zeros(T) \n",
    "    for i in range(T):\n",
    "# loss for current parameter vector theta\n",
    "        h = predict(X,theta)\n",
    "        f[i] = log_loss(h,y)\n",
    "# compute steepest ascent at f(theta)   \n",
    "        g = np.dot(X.T, (h - y)) / y.size\n",
    " # step down the gradient\n",
    "        theta = theta - alpha*g\n",
    "    return theta, f\n",
    "#-----------------------------------------------"
   ]
  },
  {
   "cell_type": "code",
   "execution_count": 4,
   "metadata": {},
   "outputs": [],
   "source": [
    "#-----------------------------------------------\n",
    "import numpy as np\n",
    "import matplotlib.pyplot as plt\n",
    "#simulate data for linear regression\n",
    "gen_data_x, gen_data_y = datasets.make_regression(n_samples=100, n_features=20, noise = 1.5)\n",
    "x = np.array(gen_data_x)\n",
    "y = np.array(gen_data_y)\n",
    "#simulate data for logistic regression.  This is similar to linear, only now values are either 0 or 1.  \n",
    "log_gen_data_x, dump_y = datasets.make_regression(n_samples=100, n_features=20, noise = 1.5)\n",
    "log_gen_data_y = [0 if i>0 else 1 for i in dump_y]\n",
    "logx= np.array(log_gen_data_x)\n",
    "logy= np.array(log_gen_data_y)"
   ]
  },
  {
   "cell_type": "code",
   "execution_count": 5,
   "metadata": {},
   "outputs": [
    {
     "data": {
      "text/plain": [
       "Text(0.5, 1.0, 'Cost Function')"
      ]
     },
     "execution_count": 5,
     "metadata": {},
     "output_type": "execute_result"
    },
    {
     "data": {
      "image/png": "[encoded data removed]",
      "text/plain": [
       "<Figure size 432x288 with 1 Axes>"
      ]
     },
     "metadata": {
      "needs_background": "light"
     },
     "output_type": "display_data"
    }
   ],
   "source": [
    "#linear multivariate regression\n",
    "params, loss = grad_descent(x, y,10000,.0000026)\n",
    "plt.plot(loss)\n",
    "plt.xlabel(\"iterations\")\n",
    "plt.ylabel(\"L2 loss\")\n",
    "plt.title(\"Cost Function\")"
   ]
  },
  {
   "cell_type": "code",
   "execution_count": 6,
   "metadata": {},
   "outputs": [
    {
     "data": {
      "text/plain": [
       "Text(0.5, 1.0, 'Cost Function')"
      ]
     },
     "execution_count": 6,
     "metadata": {},
     "output_type": "execute_result"
    },
    {
     "data": {
      "image/png": "[encoded data removed]",
      "text/plain": [
       "<Figure size 432x288 with 1 Axes>"
      ]
     },
     "metadata": {
      "needs_background": "light"
     },
     "output_type": "display_data"
    }
   ],
   "source": [
    "#logistic multivariate regression\n",
    "log_params, llfunc = log_grad_descent(logx, logy,10000,.012)\n",
    "#plotting loss    \n",
    "plt.plot(llfunc) \n",
    "plt.xlabel(\"iterations\")\n",
    "plt.ylabel(\"log loss\")\n",
    "plt.title(\"Cost Function\")\n",
    "#-----------------------------------------------"
   ]
  },
  {
   "cell_type": "code",
   "execution_count": null,
   "metadata": {},
   "outputs": [],
   "source": []
  }
 ],
 "metadata": {
  "kernelspec": {
   "display_name": "Python 3 (ipykernel)",
   "language": "python",
   "name": "python3"
  },
  "language_info": {
   "codemirror_mode": {
    "name": "ipython",
    "version": 3
   },
   "file_extension": ".py",
   "mimetype": "text/x-python",
   "name": "python",
   "nbconvert_exporter": "python",
   "pygments_lexer": "ipython3",
   "version": "3.9.10"
  }
 },
 "nbformat": 4,
 "nbformat_minor": 4
}
